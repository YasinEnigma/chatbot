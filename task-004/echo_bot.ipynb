{
  "nbformat": 4,
  "nbformat_minor": 0,
  "metadata": {
    "colab": {
      "provenance": [],
      "collapsed_sections": [],
      "authorship_tag": "ABX9TyM8UPu/qgZ1pY7yryv+0J9y",
      "include_colab_link": true
    },
    "kernelspec": {
      "name": "python3",
      "display_name": "Python 3"
    },
    "language_info": {
      "name": "python"
    }
  },
  "cells": [
    {
      "cell_type": "markdown",
      "metadata": {
        "id": "view-in-github",
        "colab_type": "text"
      },
      "source": [
        "<a href=\"https://colab.research.google.com/github/YasinEnigma/mci-chatbot/blob/main/task-004/echo_bot.ipynb\" target=\"_parent\"><img src=\"https://colab.research.google.com/assets/colab-badge.svg\" alt=\"Open In Colab\"/></a>"
      ]
    },
    {
      "cell_type": "code",
      "execution_count": 1,
      "metadata": {
        "colab": {
          "base_uri": "https://localhost:8080/"
        },
        "id": "ZzqIQhY9gzqg",
        "outputId": "21c8f530-1a7e-4f41-f0f2-3bcfa521ae5b"
      },
      "outputs": [
        {
          "output_type": "stream",
          "name": "stdout",
          "text": [
            "Looking in indexes: https://pypi.org/simple, https://us-python.pkg.dev/colab-wheels/public/simple/\n",
            "Collecting pyTelegramBotAPI\n",
            "  Downloading pyTelegramBotAPI-4.7.0.tar.gz (210 kB)\n",
            "\u001b[K     |████████████████████████████████| 210 kB 32.2 MB/s \n",
            "\u001b[?25hRequirement already satisfied: requests in /usr/local/lib/python3.7/dist-packages (from pyTelegramBotAPI) (2.23.0)\n",
            "Requirement already satisfied: idna<3,>=2.5 in /usr/local/lib/python3.7/dist-packages (from requests->pyTelegramBotAPI) (2.10)\n",
            "Requirement already satisfied: chardet<4,>=3.0.2 in /usr/local/lib/python3.7/dist-packages (from requests->pyTelegramBotAPI) (3.0.4)\n",
            "Requirement already satisfied: certifi>=2017.4.17 in /usr/local/lib/python3.7/dist-packages (from requests->pyTelegramBotAPI) (2022.6.15)\n",
            "Requirement already satisfied: urllib3!=1.25.0,!=1.25.1,<1.26,>=1.21.1 in /usr/local/lib/python3.7/dist-packages (from requests->pyTelegramBotAPI) (1.24.3)\n",
            "Building wheels for collected packages: pyTelegramBotAPI\n",
            "  Building wheel for pyTelegramBotAPI (setup.py) ... \u001b[?25l\u001b[?25hdone\n",
            "  Created wheel for pyTelegramBotAPI: filename=pyTelegramBotAPI-4.7.0-py3-none-any.whl size=192826 sha256=4fa4ac4d828633ef56dad4fa783585b44925712f423fd10aa90328b8bed9cd8b\n",
            "  Stored in directory: /root/.cache/pip/wheels/ba/13/da/8abf941f7cf9f993cde6118a56a7c24e12ed791507acd8ea39\n",
            "Successfully built pyTelegramBotAPI\n",
            "Installing collected packages: pyTelegramBotAPI\n",
            "Successfully installed pyTelegramBotAPI-4.7.0\n"
          ]
        }
      ],
      "source": [
        "!pip install pyTelegramBotAPI"
      ]
    },
    {
      "cell_type": "code",
      "source": [
        "API_TOKEN = ''"
      ],
      "metadata": {
        "id": "VNMsCrn1jp8I"
      },
      "execution_count": null,
      "outputs": []
    },
    {
      "cell_type": "code",
      "source": [
        "#!/usr/bin/python\n",
        "\n",
        "# This is a simple echo bot using the decorator mechanism.\n",
        "# It echoes any incoming text messages.\n",
        "\n",
        "import telebot\n",
        "\n",
        "bot = telebot.TeleBot(API_TOKEN)\n",
        "\n",
        "\n",
        "# Handle '/start' and '/help'\n",
        "@bot.message_handler(commands=['help', 'start'])\n",
        "def send_welcome(message):\n",
        "    bot.reply_to(message, \"\"\"\\\n",
        "Hi there, I am EchoBot.\n",
        "I am here to echo your kind words back to you. Just say anything nice and I'll say the exact same thing to you!\\\n",
        "\"\"\")\n",
        "\n",
        "\n",
        "# Handle all other messages with content_type 'text' (content_types defaults to ['text'])\n",
        "@bot.message_handler(func=lambda message: True)\n",
        "def echo_message(message):\n",
        "    bot.reply_to(message, message.text)\n",
        "\n",
        "\n",
        "bot.infinity_polling()"
      ],
      "metadata": {
        "colab": {
          "base_uri": "https://localhost:8080/"
        },
        "id": "cnfkwHS0g4gd",
        "outputId": "03cd9554-b6ce-4d2a-cc75-7cd710d35a01"
      },
      "execution_count": 3,
      "outputs": [
        {
          "output_type": "stream",
          "name": "stderr",
          "text": [
            "2022-09-19 21:01:34,912 (__init__.py:884 MainThread) ERROR - TeleBot: \"Infinity polling: polling exited\"\n",
            "ERROR:TeleBot:Infinity polling: polling exited\n",
            "2022-09-19 21:01:34,916 (__init__.py:886 MainThread) ERROR - TeleBot: \"Break infinity polling\"\n",
            "ERROR:TeleBot:Break infinity polling\n"
          ]
        }
      ]
    }
  ]
}