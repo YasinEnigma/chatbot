{
  "nbformat": 4,
  "nbformat_minor": 0,
  "metadata": {
    "colab": {
      "provenance": [],
      "collapsed_sections": [],
      "authorship_tag": "ABX9TyMTxrVy6DI05qvQo5DYF0CS",
      "include_colab_link": true
    },
    "kernelspec": {
      "name": "python3",
      "display_name": "Python 3"
    },
    "language_info": {
      "name": "python"
    }
  },
  "cells": [
    {
      "cell_type": "markdown",
      "metadata": {
        "id": "view-in-github",
        "colab_type": "text"
      },
      "source": [
        "<a href=\"https://colab.research.google.com/github/YasinEnigma/mci-chatbot/blob/main/task-005/voice_bot.ipynb\" target=\"_parent\"><img src=\"https://colab.research.google.com/assets/colab-badge.svg\" alt=\"Open In Colab\"/></a>"
      ]
    },
    {
      "cell_type": "code",
      "execution_count": 2,
      "metadata": {
        "colab": {
          "base_uri": "https://localhost:8080/"
        },
        "id": "ZzqIQhY9gzqg",
        "outputId": "420cc99a-ce5d-4648-d900-4cb757c7e9d1"
      },
      "outputs": [
        {
          "output_type": "stream",
          "name": "stdout",
          "text": [
            "Looking in indexes: https://pypi.org/simple, https://us-python.pkg.dev/colab-wheels/public/simple/\n",
            "Collecting pyTelegramBotAPI\n",
            "  Downloading pyTelegramBotAPI-4.7.0.tar.gz (210 kB)\n",
            "\u001b[K     |████████████████████████████████| 210 kB 6.4 MB/s \n",
            "\u001b[?25hRequirement already satisfied: requests in /usr/local/lib/python3.7/dist-packages (from pyTelegramBotAPI) (2.23.0)\n",
            "Requirement already satisfied: chardet<4,>=3.0.2 in /usr/local/lib/python3.7/dist-packages (from requests->pyTelegramBotAPI) (3.0.4)\n",
            "Requirement already satisfied: idna<3,>=2.5 in /usr/local/lib/python3.7/dist-packages (from requests->pyTelegramBotAPI) (2.10)\n",
            "Requirement already satisfied: certifi>=2017.4.17 in /usr/local/lib/python3.7/dist-packages (from requests->pyTelegramBotAPI) (2022.6.15)\n",
            "Requirement already satisfied: urllib3!=1.25.0,!=1.25.1,<1.26,>=1.21.1 in /usr/local/lib/python3.7/dist-packages (from requests->pyTelegramBotAPI) (1.24.3)\n",
            "Building wheels for collected packages: pyTelegramBotAPI\n",
            "  Building wheel for pyTelegramBotAPI (setup.py) ... \u001b[?25l\u001b[?25hdone\n",
            "  Created wheel for pyTelegramBotAPI: filename=pyTelegramBotAPI-4.7.0-py3-none-any.whl size=192826 sha256=8a0ff1f385ad6cc575c51f9143cced1d9f096836bf9fd3128efc046d2a3a525f\n",
            "  Stored in directory: /root/.cache/pip/wheels/ba/13/da/8abf941f7cf9f993cde6118a56a7c24e12ed791507acd8ea39\n",
            "Successfully built pyTelegramBotAPI\n",
            "Installing collected packages: pyTelegramBotAPI\n",
            "Successfully installed pyTelegramBotAPI-4.7.0\n"
          ]
        }
      ],
      "source": [
        "!pip install pyTelegramBotAPI"
      ]
    },
    {
      "cell_type": "code",
      "source": [
        "!pip install vosk"
      ],
      "metadata": {
        "colab": {
          "base_uri": "https://localhost:8080/"
        },
        "id": "0SekhfxXRdtc",
        "outputId": "efbff26a-30cd-4a20-e775-5f9fb10a7ac2"
      },
      "execution_count": 1,
      "outputs": [
        {
          "output_type": "stream",
          "name": "stdout",
          "text": [
            "Looking in indexes: https://pypi.org/simple, https://us-python.pkg.dev/colab-wheels/public/simple/\n",
            "Collecting vosk\n",
            "  Downloading vosk-0.3.44-py3-none-manylinux_2_12_x86_64.manylinux2010_x86_64.whl (7.2 MB)\n",
            "\u001b[K     |████████████████████████████████| 7.2 MB 7.2 MB/s \n",
            "\u001b[?25hRequirement already satisfied: requests in /usr/local/lib/python3.7/dist-packages (from vosk) (2.23.0)\n",
            "Collecting srt\n",
            "  Downloading srt-3.5.2.tar.gz (24 kB)\n",
            "Collecting websockets\n",
            "  Downloading websockets-10.3-cp37-cp37m-manylinux_2_5_x86_64.manylinux1_x86_64.manylinux_2_12_x86_64.manylinux2010_x86_64.whl (112 kB)\n",
            "\u001b[K     |████████████████████████████████| 112 kB 61.9 MB/s \n",
            "\u001b[?25hRequirement already satisfied: tqdm in /usr/local/lib/python3.7/dist-packages (from vosk) (4.64.1)\n",
            "Requirement already satisfied: cffi>=1.0 in /usr/local/lib/python3.7/dist-packages (from vosk) (1.15.1)\n",
            "Requirement already satisfied: pycparser in /usr/local/lib/python3.7/dist-packages (from cffi>=1.0->vosk) (2.21)\n",
            "Requirement already satisfied: chardet<4,>=3.0.2 in /usr/local/lib/python3.7/dist-packages (from requests->vosk) (3.0.4)\n",
            "Requirement already satisfied: certifi>=2017.4.17 in /usr/local/lib/python3.7/dist-packages (from requests->vosk) (2022.6.15)\n",
            "Requirement already satisfied: idna<3,>=2.5 in /usr/local/lib/python3.7/dist-packages (from requests->vosk) (2.10)\n",
            "Requirement already satisfied: urllib3!=1.25.0,!=1.25.1,<1.26,>=1.21.1 in /usr/local/lib/python3.7/dist-packages (from requests->vosk) (1.24.3)\n",
            "Building wheels for collected packages: srt\n",
            "  Building wheel for srt (setup.py) ... \u001b[?25l\u001b[?25hdone\n",
            "  Created wheel for srt: filename=srt-3.5.2-py3-none-any.whl size=22487 sha256=1e35317be10f95eea3852d020960843f3312ffa0ad356a56eb19481a729dc380\n",
            "  Stored in directory: /root/.cache/pip/wheels/54/c4/ec/4604122e072aebb16803c8297b7cd3f4c72073a3ee58738015\n",
            "Successfully built srt\n",
            "Installing collected packages: websockets, srt, vosk\n",
            "Successfully installed srt-3.5.2 vosk-0.3.44 websockets-10.3\n"
          ]
        }
      ]
    },
    {
      "cell_type": "code",
      "source": [
        "#downloading vosk models:\n",
        "!wget -q -O /content/vosk_model.zip https://alphacephei.com/vosk/models/vosk-model-fa-0.5.zip"
      ],
      "metadata": {
        "id": "pFogvZVNSIu9"
      },
      "execution_count": 60,
      "outputs": []
    },
    {
      "cell_type": "code",
      "source": [
        "!unzip vosk_model.zip"
      ],
      "metadata": {
        "colab": {
          "base_uri": "https://localhost:8080/"
        },
        "id": "khUl-4aGSOX3",
        "outputId": "fbdca01d-f103-458d-ea5b-5abe1207c51f"
      },
      "execution_count": 61,
      "outputs": [
        {
          "output_type": "stream",
          "name": "stdout",
          "text": [
            "Archive:  vosk_model.zip\n",
            "   creating: vosk-model-fa-0.5/\n",
            "   creating: vosk-model-fa-0.5/rescore/\n",
            "  inflating: vosk-model-fa-0.5/rescore/G.carpa  \n",
            "  inflating: vosk-model-fa-0.5/rescore/G.fst  \n",
            "   creating: vosk-model-fa-0.5/test/\n",
            " extracting: vosk-model-fa-0.5/test/test.txt  \n",
            "  inflating: vosk-model-fa-0.5/test/test.wav  \n",
            "  inflating: vosk-model-fa-0.5/test/test_simple.py  \n",
            "   creating: vosk-model-fa-0.5/am/\n",
            "  inflating: vosk-model-fa-0.5/am/final.mdl  \n",
            "  inflating: vosk-model-fa-0.5/am/tree  \n",
            "   creating: vosk-model-fa-0.5/graph/\n",
            "  inflating: vosk-model-fa-0.5/graph/words.txt  \n",
            "  inflating: vosk-model-fa-0.5/graph/HCLG.fst  \n",
            "   creating: vosk-model-fa-0.5/graph/phones/\n",
            "  inflating: vosk-model-fa-0.5/graph/phones/word_boundary.int  \n",
            "   creating: vosk-model-fa-0.5/conf/\n",
            "  inflating: vosk-model-fa-0.5/conf/model.conf  \n",
            "  inflating: vosk-model-fa-0.5/conf/mfcc.conf  \n",
            "   creating: vosk-model-fa-0.5/ivector/\n",
            "  inflating: vosk-model-fa-0.5/ivector/splice.conf  \n",
            "  inflating: vosk-model-fa-0.5/ivector/final.dubm  \n",
            "  inflating: vosk-model-fa-0.5/ivector/global_cmvn.stats  \n",
            "  inflating: vosk-model-fa-0.5/ivector/final.ie  \n",
            "  inflating: vosk-model-fa-0.5/ivector/online_cmvn.conf  \n",
            "  inflating: vosk-model-fa-0.5/ivector/final.mat  \n",
            " extracting: vosk-model-fa-0.5/README  \n"
          ]
        }
      ]
    },
    {
      "cell_type": "code",
      "source": [
        "from vosk import Model, KaldiRecognizer\n",
        "import wave\n",
        "import json\n",
        "from IPython.display import HTML, Audio\n",
        "from google.colab.output import eval_js\n",
        "from base64 import b64decode\n",
        "import numpy as np\n",
        "from scipy.io.wavfile import read \n",
        "\n",
        "\n",
        "import soundfile as sf\n",
        "import json\n",
        "import IPython\n",
        "import librosa\n",
        "import telebot\n",
        "import requests\n",
        "import warnings\n",
        "warnings.filterwarnings('ignore')"
      ],
      "metadata": {
        "id": "OR5kWCRXRYs4"
      },
      "execution_count": 62,
      "outputs": []
    },
    {
      "cell_type": "code",
      "source": [
        "model_path='/content/vosk-model-fa-0.5'\n",
        "\n",
        "model = Model(model_path)"
      ],
      "metadata": {
        "id": "m12xhTn1SjBs"
      },
      "execution_count": 63,
      "outputs": []
    },
    {
      "cell_type": "code",
      "source": [
        "API_TOKEN = '5784871336:AAFSFwiHl4yRPNFqtg_lxEQVmdR2nRjTqSQ'"
      ],
      "metadata": {
        "id": "VNMsCrn1jp8I"
      },
      "execution_count": 64,
      "outputs": []
    },
    {
      "cell_type": "code",
      "source": [
        "bot = telebot.TeleBot(API_TOKEN)\n",
        "\n",
        "# Handle '/start' and '/help'\n",
        "@bot.message_handler(commands=['help', 'start'])\n",
        "def send_welcome(message):\n",
        "    bot.reply_to(message, \"\"\"\\\n",
        "Hi there, I am VoiceBot.\n",
        "I am here to recieve your voices and return transcript back to you. Just say anything nice :)) \\\n",
        "\"\"\")\n",
        "\n",
        "# Handle all other messages with content_type 'text' (content_types defaults to ['text'])\n",
        "@bot.message_handler(func=lambda message: True)\n",
        "def echo_message(message):\n",
        "    bot.reply_to(message, message.text)\n",
        "\n",
        "@bot.message_handler(content_types=['voice'])\n",
        "def read_message(message):\n",
        "\tfile_info = bot.get_file(message.voice.file_id)\n",
        "\tfile = requests.get('https://api.telegram.org/file/bot{0}/{1}'.format(API_TOKEN, file_info.file_path))\n",
        "\twith open('voice.ogg','wb') as f:\n",
        "\t\tf.write(file.content)\n",
        "\tx,_ = librosa.load('voice.ogg', sr=16000)\n",
        "\tsf.write('voice.wav', x, 16000)\n",
        "\tbot.send_message(message.chat.id, 'File is Recieved!')\n",
        " \n",
        "\twf = wave.open('voice.wav', 'rb')\n",
        "\trec = KaldiRecognizer(model, wf.getframerate())\n",
        "\trec.SetWords(True)\n",
        "\trec.SetPartialWords(True)\n",
        "\twhile True:\n",
        "\t\tdata = wf.readframes(2000)\n",
        "\t\tif len(data) == 0:\n",
        "\t\t\tbreak\n",
        "\t\tif rec.AcceptWaveform(data):\n",
        "\t\t\trec.Result()\n",
        "\t\telse:\n",
        "\t\t\trec.PartialResult()\n",
        "\tres = json.loads(rec.FinalResult())\n",
        "\tbot.reply_to(message, f'Text is: \\n {res[\"text\"]}')"
      ],
      "metadata": {
        "id": "cnfkwHS0g4gd"
      },
      "execution_count": 71,
      "outputs": []
    },
    {
      "cell_type": "code",
      "source": [
        "if __name__ == '__main__':\n",
        "    bot.polling(none_stop=True)\n",
        "\n",
        "\n",
        "bot.infinity_polling()"
      ],
      "metadata": {
        "id": "GAUvuU688P0N",
        "colab": {
          "base_uri": "https://localhost:8080/"
        },
        "outputId": "dfc30282-1a4a-4ecc-c990-72c210ae4aac"
      },
      "execution_count": 72,
      "outputs": [
        {
          "output_type": "stream",
          "name": "stderr",
          "text": [
            "2022-09-26 06:21:40,719 (__init__.py:886 MainThread) ERROR - TeleBot: \"Break infinity polling\"\n",
            "ERROR:TeleBot:Break infinity polling\n"
          ]
        }
      ]
    }
  ]
}